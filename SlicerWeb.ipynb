{
 "cells": [
  {
   "cell_type": "markdown",
   "metadata": {},
   "source": [
    "# Vamos a ganar"
   ]
  },
  {
   "cell_type": "code",
   "execution_count": null,
   "metadata": {
    "kernelspec": {
     "display_name": "Slicer 4.11",
     "language": "python",
     "name": "slicer-4.11"
    }
   },
   "outputs": [],
   "source": [
    "# Run this cell to load a file from a URL.\n",
    "# You can load your own data by changing inputs of downloadFromURL.\n",
    "# Any questions? Write us on the Slicer forum: https://discourse.slicer.org\n",
    "# Run this cell (Shift+Enter) to show application here\n",
    "import JupyterNotebooksLib as slicernb\n",
    "slicernb.AppWindow(contents='full')\n",
    "slicer.mrmlScene.Clear()\n",
    "#volume = slicernb.downloadFromURL(\n",
    "#    uris=\"https://github.com/Slicer/SlicerTestingData/releases/download/MD5/39b01631b7b38232a220007230624c8e\",\n",
    "#    fileNames=\"MRHead.nrrd\",\n",
    "#    nodeNames=\"Volume\")[0]\n",
    "\n",
    "#slicernb.showVolumeRendering(volume)"
   ]
  }
 ],
 "metadata": {
  "kernelOptions": {
   "kernelName": "slicer-4.11",
   "name": "slicer-4.11"
  },
  "kernelspec": {
   "display_name": "Slicer 4.11",
   "language": "python",
   "name": "slicer-4.11"
  },
  "language_info": {
   "file_extension": ".py",
   "mimetype": "text/x-python",
   "name": "python",
   "version": "3.6.7"
  }
 },
 "nbformat": 4,
 "nbformat_minor": 4
}
