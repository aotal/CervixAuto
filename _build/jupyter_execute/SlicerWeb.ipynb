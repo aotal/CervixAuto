{
 "cells": [
  {
   "cell_type": "markdown",
   "metadata": {},
   "source": [
    "<h1><center>Click here to open 3D Slicer in a new window</center></h1></a>"
   ]
  },
  {
   "cell_type": "code",
   "execution_count": 1,
   "metadata": {
    "kernelspec": {
     "display_name": "Slicer 4.11",
     "language": "python",
     "name": "slicer-4.11"
    }
   },
   "outputs": [
    {
     "data": {
      "text/html": [
       "\n",
       "<iframe\n",
       "    width=\"960\"\n",
       "    height=\"768\"\n",
       "    src=\"../desktop\"\n",
       "    frameborder=\"0\"\n",
       "    allowfullscreen\n",
       "></iframe>\n"
      ],
      "text/plain": [
       "<JupyterNotebooksLib.widgets.AppWindow object at 0x0000000066553A90>"
      ]
     },
     "execution_count": 1,
     "metadata": {},
     "output_type": "execute_result"
    }
   ],
   "source": [
    "# Run this cell (Shift+Enter) to show application here\n",
    "import JupyterNotebooksLib as slicernb\n",
    "slicernb.AppWindow(contents='full')"
   ]
  },
  {
   "cell_type": "code",
   "execution_count": 2,
   "metadata": {
    "kernelspec": {
     "display_name": "Slicer 4.11",
     "language": "python",
     "name": "slicer-4.11"
    }
   },
   "outputs": [
    {
     "data": {
      "application/vnd.jupyter.widget-view+json": {
       "model_id": "d177368253884d0b9d3669f6346fd8ed",
       "version_major": 2,
       "version_minor": 0
      },
      "text/plain": [
       "IntProgress(value=0)"
      ]
     },
     "metadata": {},
     "output_type": "display_data"
    },
    {
     "ename": "TypeError",
     "evalue": "'MRMLCorePython.vtkMRMLScalarVolumeNode' object is not subscriptable",
     "output_type": "error",
     "traceback": [
      "\u001b[0;31m---------------------------------------------------------------------------\u001b[0m\n\u001b[0;31mTypeError\u001b[0m                                 Traceback (most recent call last)",
      "In  \u001b[0;34m[2]\u001b[0m:\nLine \u001b[0;34m9\u001b[0m:     \n",
      "\u001b[0;31mTypeError\u001b[0m: 'MRMLCorePython.vtkMRMLScalarVolumeNode' object is not subscriptable\n\u001b[0;31m---------------------------------------------------------------------------\u001b[0m"
     ]
    }
   ],
   "source": [
    "# Run this cell to load a file from a URL.\n",
    "# You can load your own data by changing inputs of downloadFromURL.\n",
    "# Any questions? Write us on the Slicer forum: https://discourse.slicer.org\n",
    "slicer.mrmlScene.Clear()\n",
    "\n",
    "volume = slicernb.downloadFromURL(\n",
    "    uris=\"https://github.com/Slicer/SlicerTestingData/releases/download/MD5/39b01631b7b38232a220007230624c8e\",\n",
    "    fileNames=\"MRHead.nrrd\",\n",
    "    nodeNames=\"Volume\")[0]\n",
    "\n",
    "slicernb.showVolumeRendering(volume)"
   ]
  },
  {
   "cell_type": "code",
   "execution_count": null,
   "metadata": {},
   "outputs": [],
   "source": []
  }
 ],
 "metadata": {
  "kernelspec": {
   "display_name": "Slicer 4.11",
   "language": "python",
   "name": "slicer-4.11"
  },
  "language_info": {
   "file_extension": ".py",
   "mimetype": "text/x-python",
   "name": "python",
   "version": "3.6.7"
  }
 },
 "nbformat": 4,
 "nbformat_minor": 4
}